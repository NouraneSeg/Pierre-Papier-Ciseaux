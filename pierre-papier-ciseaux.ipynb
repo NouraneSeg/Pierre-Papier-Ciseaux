{
 "cells": [
  {
   "cell_type": "markdown",
   "id": "7ab08910",
   "metadata": {},
   "source": [
    "Q1. Ecrire un programme qui permet de simuler un jeux de pierre-papier-ciseaux entre vous et le PC et d'afficher le score après 5 parties (nombre de parties gagnées, perdues et nulles).\n",
    "\n",
    "Q2. Que devient le programme si on veut que le PC ait 2 fois plus de chances de choisir pierre que papier et ciseaux.\n",
    "Source : Exercice2 TP1 MODSIM M1 - USTOMB"
   ]
  },
  {
   "cell_type": "code",
   "execution_count": null,
   "id": "0cd44699",
   "metadata": {},
   "outputs": [],
   "source": [
    "import numpy as np\n",
    "import numpy.random as rd\n",
    "import matplotlib.pyplot as plt\n",
    "liste = [\"pierre\", \"papier\" , \"ciseau\"]\n",
    "choice_pc = rd.choice (liste)\n",
    "partie_gagnante=0\n",
    "partie_perdante=0\n",
    "null=0\n",
    "for i in range(5):\n",
    "    choice_human=input()\n",
    "    choice_pc = rd.choice (liste)\n",
    "    print (\"l'ordinateur a choisi : \", choice_pc ,\"vous avez choisi :\",choice_human)\n",
    "    if choice_human == \"ciseau\" or choice_human == \"papier\" or choice_human == \"pierre\" : \n",
    "        if choice_human == choice_pc :\n",
    "            null=null+1\n",
    "            print (\"null\")\n",
    "        elif choice_human == \"pierre\" and choice_pc == \"papier\" or choice_human == \"ciseau\" and choice_pc == \"pierre\" or choice_human == \"papier\" and choice_pc == \"ciseau\" : \n",
    "            partie_perdante=partie_perdante+1\n",
    "            print (\"partie perdue\")\n",
    "        else : \n",
    "            partie_gagnante=partie_gagnante+1\n",
    "            print (\"partie gagnee\")\n",
    "    else : print(\"erreur\")\n",
    "print (\"\\n\",\"nombre de parties gagnees :\", partie_gagnante,\"\\n\",\"nombre de partie perdus :\",partie_perdante,\"\\n\",\"nombre de parties null :\",null)"
   ]
  },
  {
   "cell_type": "code",
   "execution_count": null,
   "id": "d9ff3fd6",
   "metadata": {},
   "outputs": [],
   "source": []
  }
 ],
 "metadata": {
  "kernelspec": {
   "display_name": "Python 3",
   "language": "python",
   "name": "python3"
  },
  "language_info": {
   "codemirror_mode": {
    "name": "ipython",
    "version": 3
   },
   "file_extension": ".py",
   "mimetype": "text/x-python",
   "name": "python",
   "nbconvert_exporter": "python",
   "pygments_lexer": "ipython3",
   "version": "3.8.8"
  }
 },
 "nbformat": 4,
 "nbformat_minor": 5
}
